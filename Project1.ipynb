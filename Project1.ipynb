{
 "cells": [
  {
   "cell_type": "markdown",
   "metadata": {
    "id": "gfUt7BmNzkIx"
   },
   "source": [
    "# Project 1: First steps in Machine Learning (70 Points)\n",
    "In this project, you will train and evaluate your first machine learning models. We provide a structure with a lot of **TODO**s guiding you through the work. Please read the following information carefully.\n",
    "\n",
    "## Grading\n",
    "You can gain a total of 70 points in this project.\n",
    "\n",
    "Please follow the **TODO**s in this notebook. There are practical and theoretical tasks to do.<br>\n",
    "When working on the tasks please consider the following information:\n",
    "* write short texts in **full sentences** answering the TODOs. Note, that analyzing the theoratical parts of the project give roughly 2/3 of all points (at least in part 1)\n",
    "* when describing classifiers explain at least the training, testing, and the hyper-parameters\n",
    "* have a look at all imports in this notebook; they already define which method you should use\n",
    "\n",
    "\n",
    "## Organizational and Deadline\n",
    "On Monday, **November 13th**, there will be a Q&A session in the tutorials! Start to work on this project **from now on** and take the offer to resolve any remaining ambiguity.\n",
    "This assignment is due on **November 21st**. Please upload your solution to the Lernraum+ as an ipynb-file.<br>\n",
    "For a submission you need to be part of a assignment group."
   ]
  },
  {
   "cell_type": "markdown",
   "metadata": {
    "id": "HCypy1U8zkI0"
   },
   "source": [
    "# Part 1: Training your first models (45 points)"
   ]
  },
  {
   "cell_type": "code",
   "execution_count": null,
   "metadata": {
    "id": "197KcJbGzkI3"
   },
   "outputs": [],
   "source": [
    "import numpy as np\n",
    "# load dataset_1.npz\n",
    "# the data and labels are saved in X and y, respectively\n",
    "data_set = np.load('dataset_1.npz')\n",
    "X = data_set['X']\n",
    "y = data_set['y']"
   ]
  },
  {
   "cell_type": "markdown",
   "metadata": {},
   "source": [
    "### The first dataset"
   ]
  },
  {
   "cell_type": "code",
   "execution_count": null,
   "metadata": {
    "id": "Pp0Fida7zkJA"
   },
   "outputs": [],
   "source": [
    "# TODO: take a closer look at the dataset, e.g. number of samples, dimensionality, labels, etc.\n",
    "np.set_printoptions(threshold=3)\n",
    "\n",
    "print(X)\n",
    "print(\"\\n\",y)"
   ]
  },
  {
   "cell_type": "markdown",
   "metadata": {},
   "source": [
    "This is a preview of the first and last three rows of our dataset, we investigate more on the range of values taken"
   ]
  },
  {
   "cell_type": "code",
   "execution_count": null,
   "metadata": {},
   "outputs": [],
   "source": [
    "print(f'Maximum value of the first column {np.max(X[0])}')\n",
    "print(f'Maximum value of the second column {np.max(X[1])}')\n",
    "\n",
    "print(f'Minimum value of the first column {np.min(X[0])}')\n",
    "print(f'Minimum value of the second column {np.min(X[1])}')"
   ]
  },
  {
   "cell_type": "code",
   "execution_count": null,
   "metadata": {},
   "outputs": [],
   "source": [
    "# Number of samples\n",
    "num_samples = X.shape[0]\n",
    "print(f\"Number of samples: {num_samples}\")\n",
    "\n",
    "# Dimensionality of the data\n",
    "dim = X.shape[1]\n",
    "print(f\"Dimensionality of the data: {dim}\")\n",
    "\n",
    "# Unique labels in the dataset\n",
    "unique_labels = np.unique(y)\n",
    "num_labels = len(unique_labels)\n",
    "print(f\"There are {num_labels} unique labels in the dataset: {unique_labels}\")\n",
    "\n",
    "# Count of each label (bincount counts the number of occurrencies for each value in an array)\n",
    "label_counts = np.bincount(y)\n",
    "# Print the count of each label (enumerate returns a tuple with the index and the value of the array)))\n",
    "for label, count in enumerate(label_counts):\n",
    "    print(f\"Count of label {label}: {count}\")"
   ]
  },
  {
   "cell_type": "markdown",
   "metadata": {},
   "source": [
    "We are dealing with a dataset of $800$ samples. The independent variables are $X_1$ and $X_2$ which are variables that take values in $[-10.45,-2.90]$ for $X_1$ and $[-3.33,4.18]$ for $X_2$. The dependent variable is $y$ that only takes values in $\\{0,\\;1\\}$, we have half samples labelled with $0$ and the other half labelled with $1$."
   ]
  },
  {
   "cell_type": "code",
   "execution_count": null,
   "metadata": {},
   "outputs": [],
   "source": [
    "num_nan_x0 = np.isnan(X[0]).sum()\n",
    "num_nan_x1 = np.isnan(X[1]).sum()\n",
    "num_nan_y = np.isnan(y).sum()\n",
    "\n",
    "print(f\"The number of NaNs in the dataset is {num_nan_x0} for X1, {num_nan_x1} for X2, {num_nan_y} for y\")"
   ]
  },
  {
   "cell_type": "markdown",
   "metadata": {},
   "source": [
    "We have no NaNs in the dataset."
   ]
  },
  {
   "cell_type": "markdown",
   "metadata": {},
   "source": [
    "### Splitting the data\n",
    "\n",
    "For Part 1 of the exercise, use this data split:"
   ]
  },
  {
   "cell_type": "code",
   "execution_count": null,
   "metadata": {},
   "outputs": [],
   "source": [
    "n_train = int(0.7*X.shape[0])\n",
    "n_test_val = int(0.15*X.shape[0])\n",
    "X_train = X[:n_train]\n",
    "y_train = y[:n_train]\n",
    "X_test = X[n_train:n_train+n_test_val]\n",
    "y_test = y[n_train:n_train+n_test_val]\n",
    "X_val = X[n_train+n_test_val:]\n",
    "y_val = y[n_train+n_test_val:]"
   ]
  },
  {
   "cell_type": "markdown",
   "metadata": {
    "id": "j-G-3Qj8zkJH"
   },
   "source": [
    "## 1a) kNN - Classifier\n",
    "\n",
    "### the Model\n",
    "\n",
    "**TODO:** Describe the kNN classifier"
   ]
  },
  {
   "cell_type": "markdown",
   "metadata": {},
   "source": [
    "kNN classifier is a non-parametric method. \n",
    "\n",
    "Given the dataset $\\mathcal{D}=\\{(\\vec{x}_i,y_i)\\in\\mathbb{R}^D\\times\\{1,\\;.\\;.\\;.,\\;C)\\}$, for a fixed $k\\in\\mathbb{N}_{>0}$, the idea of kNN is to estimate $\\mathbb{P}(y=j|X=x_0)$ by creating a set of points close to $x_0$ to classifie the test observation $x_0$ to the class with the largest probability.\n",
    "\n",
    "The accuracy of the classifier is defined as the percentage of ppoints which are classified correctly, i.e. $$accuracy(f,\\mathcal{D})=\\frac{|\\{\\vec{x}_i|(\\vec{X}_i,y_i)\\in\\mathcal{D},f(\\vec{x]_i)=y_i})|}{|\\mathcal{D}|}$$\n",
    "\n",
    "where for $\\mathcal{D}$ we can use the training set/ test set/ validation set.\n",
    "\n",
    "We have to remind that kNN is a non parametric method, so we are not trying to study any coefficients through this method, but we are only focusing on assigning a probability to the fact that a new sample belongs to a specific class by estimating the conditional distribuition and classifying new samples to the class (in this case $0$ and $1$) with the highest estimated probability."
   ]
  },
  {
   "cell_type": "code",
   "execution_count": null,
   "metadata": {
    "id": "yoR7mM5o81n-"
   },
   "outputs": [],
   "source": [
    "# TODO: Train and evaluate a kNN classifier with k=3 and report the accuracy of the model on the train, validation and test set.\n",
    "#       Use the data as splitted above.\n",
    "\n",
    "# https://scikit-learn.org/stable/modules/generated/sklearn.neighbors.KNeighborsClassifier.html\n",
    "from sklearn.neighbors import KNeighborsClassifier\n",
    "from sklearn.metrics import accuracy_score \n",
    "\n",
    "# Create a kNN classifier object\n",
    "knn = KNeighborsClassifier(n_neighbors=3)\n",
    "\n",
    "# Train the classifier\n",
    "knn.fit(X_train, y_train)\n",
    "\n",
    "# Predict the labels of the train set\n",
    "y_train_pred = knn.predict(X_train)\n",
    "\n",
    "# Predict the labels of the validation set\n",
    "y_val_pred = knn.predict(X_val)\n",
    "\n",
    "# Predict the labels of the test set\n",
    "y_test_pred = knn.predict(X_test)\n",
    "\n",
    "# Calculate and print the accuracy on the train set\n",
    "train_accuracy = accuracy_score(y_train, y_train_pred)\n",
    "print(f\"Train accuracy: {train_accuracy*100:.2f}%\")\n",
    "\n",
    "# Calculate and print the accuracy on the validation set\n",
    "val_accuracy = accuracy_score(y_val, y_val_pred)\n",
    "print(f\"Validation accuracy: {val_accuracy*100:.2f}%\")\n",
    "\n",
    "# Calculate and print the accuracy on the test set\n",
    "test_accuracy = accuracy_score(y_test, y_test_pred)\n",
    "print(f\"Test accuracy: {test_accuracy*100:.2f}%\")\n"
   ]
  },
  {
   "cell_type": "markdown",
   "metadata": {},
   "source": [
    "**TODO:** Report your results."
   ]
  },
  {
   "cell_type": "markdown",
   "metadata": {},
   "source": [
    "The accuracy is very high for every set of samples, syntom that the model predicts good the dependent variable. As we expected the accuracy of the train set is the higher one, because the model had been trained on that specific part of the dataset."
   ]
  },
  {
   "cell_type": "code",
   "execution_count": null,
   "metadata": {
    "id": "FY4-FS3LzkJI"
   },
   "outputs": [],
   "source": [
    "# TODO: Train and test the kNN classifier for different values of k on dataset 1.\n",
    "#       Use the train set to train the classifier and the validation set to evaluate the performance.\n",
    "#       Plot the validation accuracy for different values of k. Choose all possible values for k.\n",
    "#       Finally train the kNN classifier with the optimal k and report the accuracy on the test set.\n",
    "\n",
    "import matplotlib.pyplot as plt\n",
    "# Initialize the list of accuracies\n",
    "accuracies = []\n",
    "\n",
    "# Loop over all possible values of k\n",
    "for k in range(1, X_train.shape[0]+1):\n",
    "    # Create a kNN classifier object\n",
    "    knn = KNeighborsClassifier(n_neighbors=k)\n",
    "\n",
    "    # Train the classifier\n",
    "    knn.fit(X_train, y_train)\n",
    "\n",
    "    # Predict the labels of the validation set\n",
    "    y_val_pred = knn.predict(X_val)\n",
    "\n",
    "    # Calculate the accuracy on the validation set and append it to the list of accuracies\n",
    "    val_accuracy = accuracy_score(y_val, y_val_pred)\n",
    "    accuracies.append(val_accuracy)\n",
    "\n",
    "# Plot the validation accuracy for different values of k\n",
    "plt.plot(range(1, len(accuracies)+1), accuracies)\n",
    "plt.xlabel('k')\n",
    "plt.ylabel('Validation Accuracy')\n",
    "plt.grid()\n",
    "plt.show()\n",
    "\n",
    "# Find the optimal k (the one that gives the highest validation accuracy)\n",
    "optimal_k = np.argmax(accuracies) + 1\n",
    "\n",
    "# Train the kNN classifier with the optimal k\n",
    "knn_optimal = KNeighborsClassifier(n_neighbors=optimal_k)\n",
    "knn_optimal.fit(X_train, y_train)\n",
    "\n",
    "# Predict the labels of the test set\n",
    "y_test_pred_optimal = knn_optimal.predict(X_test)\n",
    "\n",
    "# Calculate and print the accuracy on the test set\n",
    "test_accuracy_optimal = accuracy_score(y_test, y_test_pred_optimal)\n",
    "print(f\"Test accuracy with optimal k = {optimal_k}: {test_accuracy_optimal*100:.2f}%\")\n"
   ]
  },
  {
   "cell_type": "markdown",
   "metadata": {
    "id": "hoj8y_WWzkJQ"
   },
   "source": [
    "**TODO:** Answer the following questions in a **full text**.\n",
    "\n",
    "* Describe your choice of values of k. Why did you choose them?\n",
    "> \n",
    "* For which values of k does the model perform best?\n",
    "> \n",
    "* Would this value perform best on another dataset as well?\n",
    "> \n",
    "* What is the smallest and the greatest possible value for k? What would happen if we would choose these special values?\n",
    "> "
   ]
  },
  {
   "cell_type": "markdown",
   "metadata": {},
   "source": [
    "We plotted the accuracy on the validation set depending on $k$ number of neighbours taken into account during the training, and since $k$ represents the number of samples taken, we go from $k=0$ to $k=800$.\n",
    "\n",
    "As we can see, we reach the optimum for $k=6$ for which we get an accuracy on the test set of $93.33$, and we keep a high validation accuracy until $k = 100$ when it starts decreasing.\n",
    "\n",
    "Of course we can't say in general that such a $k$ will perform best on another dataset as well, because of a bias-variance trade off, every dataset may de distribuited in a particular way that makes impossibile to say which specific $k$ would fit the best. It depends at most from the distribuition of the samples: if the classes are particulary good distribuited we would need a lower $k$, but if the samples are not specifically distribuited, we would need a higher $k$ (or in the worsted cases no $k$ would fit well)."
   ]
  },
  {
   "attachments": {
    "image.png": {
     "image/png": "[encoded data removed]"
    }
   },
   "cell_type": "markdown",
   "metadata": {},
   "source": [
    "![image.png](attachment:image.png)\n",
    "\n",
    "Case in which the dataset presents a good distribuition and even a big $k$ would fit well."
   ]
  },
  {
   "attachments": {
    "image.png": {
     "image/png": "[encoded data removed]"
    }
   },
   "cell_type": "markdown",
   "metadata": {},
   "source": [
    "![image.png](attachment:image.png)\n",
    "\n",
    "Case in which there's no particular distribuition of the points and finding a specific $k$ would be crucial, because a high $k$ would create an ambiguous neighbourhood."
   ]
  },
  {
   "cell_type": "markdown",
   "metadata": {},
   "source": [
    "As we have already seen, we took values for $k$ in $[1,800]$ which means that:\n",
    "\n",
    "- For $k=1$, we are taking only one sample to perform the accuracy, this means that we have an overly flexible decision boundary, a low bias, but a high variance, because the training error is null, but it's impossible to classify a new sample in such a way;\n",
    "\n",
    "- For $k=800$, we are using the whole dataset as neighbourhood, which will cause enormous errors in classification."
   ]
  },
  {
   "cell_type": "markdown",
   "metadata": {
    "id": "qxex3z5tzkJR"
   },
   "source": [
    "## 1b) Logistic Regression\n",
    "Let's try another model as well. We will use the same dataset and split as before."
   ]
  },
  {
   "cell_type": "markdown",
   "metadata": {
    "id": "dygg6SnkzkJX"
   },
   "source": [
    "### the Model\n",
    "\n",
    "**TODO:** Describe the logistic regression model"
   ]
  },
  {
   "cell_type": "markdown",
   "metadata": {},
   "source": [
    "Given a two classification problem with classes $0$ and $1$, the logistic regression is a parametric model that realizes the model $\\mathbb{P}(y=1|\\vec{x},\\vec{w})\\sim Be(y=1|sgd(\\vec{w}^T\\vec{x}))$ where $\\vec{w}$ is the model parameter, $sgd(t)=(1+exp(-t))^{-1}$ is the sigmoidal function and $Be$ is the Bernoulli distribuition."
   ]
  },
  {
   "cell_type": "code",
   "execution_count": null,
   "metadata": {
    "id": "_nBBLXJMBSqI"
   },
   "outputs": [],
   "source": [
    "# TODO: * Train and test logistic regression on the same split of dataset_1.npz (report accuracy for train, test and validation)\n",
    "#       * Plot the dataset and the decision boundary, own implementation needed (see lecture slide 52 in slides1.pdf)\n",
    "#         where the decision boundary is optimized on the complete dataset (X).\n",
    "\n",
    "from sklearn.linear_model import LogisticRegression\n",
    "\n",
    "logisticReg = LogisticRegression()\n",
    "logisticReg.fit(X_train, y_train)\n",
    "\n",
    "#Score is a built-in function of the LogisticRegression class\n",
    "train_accuracy = logisticReg.score(X_train, y_train)\n",
    "test_accuracy = logisticReg.score(X_test, y_test)\n",
    "val_accuracy = logisticReg.score(X_val, y_val)\n",
    "\n",
    "print(f'Train Accuracy: {train_accuracy}')\n",
    "print(f'Test Accuracy: {test_accuracy}')\n",
    "print(f'Validation Accuracy: {val_accuracy}')\n",
    "\n"
   ]
  },
  {
   "cell_type": "code",
   "execution_count": null,
   "metadata": {},
   "outputs": [],
   "source": [
    "import matplotlib.pyplot as plt\n",
    "from matplotlib.colors import ListedColormap\n",
    "\n",
    "def plot_data_and_boundary(X, y, model):\n",
    "    # Create color maps\n",
    "    cmap_light = ListedColormap(['#FFAAAA', '#AAFFAA', '#AAAAFF'])\n",
    "    cmap_bold = ListedColormap(['#FF0000', '#00FF00', '#0000FF'])\n",
    "\n",
    "    # Plot the decision boundary. For that, we will assign a color to each point in the mesh [x_min, x_max]x[y_min, y_max].\n",
    "    x_min, x_max = X[:, 0].min() - 1, X[:, 0].max() + 1\n",
    "    y_min, y_max = X[:, 1].min() - 1, X[:, 1].max() + 1\n",
    "    h = .02  # step size in the mesh\n",
    "    xx, yy = np.meshgrid(np.arange(x_min, x_max, h), np.arange(y_min, y_max, h))\n",
    "    Z = model.predict(np.c_[xx.ravel(), yy.ravel()])\n",
    "\n",
    "    # Put the result into a color plot\n",
    "    Z = Z.reshape(xx.shape)\n",
    "    plt.figure()\n",
    "    plt.pcolormesh(xx, yy, Z, cmap=cmap_light)\n",
    "\n",
    "    # Plot also the training points\n",
    "    plt.scatter(X[:, 0], X[:, 1], c=y, cmap=cmap_bold, edgecolor='k')\n",
    "    plt.title(\"Dataset and Decision Boundary\")\n",
    "\n",
    "    plt.show()\n",
    "\n",
    "# Use the function\n",
    "plot_data_and_boundary(X_train, y_train, logisticReg)\n",
    "\n",
    "\n"
   ]
  },
  {
   "cell_type": "markdown",
   "metadata": {},
   "source": [
    "**TODO:** How does Logistic Regression perform on this dataset? How does this relate to the properties of the model and the dataset? Answer in full sentences.\n"
   ]
  },
  {
   "cell_type": "markdown",
   "metadata": {},
   "source": [
    "By performing logistic regression on this dataset we obtained the follow walues for the accuracy:\n",
    "\n",
    "- Train Accuracy: $57,78\\%$\n",
    "- Test Accuracy: $44,17\\%$\n",
    "- Validation Accuracy: $61,67\\%$\n",
    "\n",
    "This values are very low, because they mean that the possibility that a new sample is missclassified is of $\\frac{1}{2}$, which is a very high probability of getting wrong classification results.\n",
    "\n",
    "In particularly, we can compare this values with the ones obtained through KNN for $k=3$:\n",
    "\n",
    "|  | KNN | Logistic regression |\n",
    "|---|:---:|:---:|\n",
    "| Train accuracy | $96.43\\%$ | $57,78\\%$ |\n",
    "| Test accuracy | $92.50\\%$ | $44,17\\%$ |\n",
    "| Validation accuracy | $91.67\\%$ | $61,67\\%$ |\n",
    "\n",
    "It was already clear from the plot that with a linear boudary the classification was terrible, but with the accuracy's values is even more obvious that the logistic regression has a terrible performance on this dataset, expecially compared to KNN where the performance on train, test and validation set always reaches the $90\\%$."
   ]
  },
  {
   "cell_type": "code",
   "execution_count": null,
   "metadata": {},
   "outputs": [],
   "source": [
    "# TODO: To achieve better performance, we apply polynomial preprocessing before fitting logistic regression. Therefor, you may construct a pipeline as shown below.\n",
    "#       Similar to kNN, optimize the polynomial degree and plot performance for different values. Pass only one degree to PolynomialFeatures (not a tuple (min,max)) at each time\n",
    "#       and validate the whole pipeline!\n",
    "#       Remember to use the train set for training and the validation set to determine the optimal polynomial degree.\n",
    "\n",
    "from sklearn.preprocessing import PolynomialFeatures\n",
    "from sklearn.pipeline import Pipeline\n",
    "import warnings\n",
    "from sklearn.exceptions import ConvergenceWarning\n",
    "\n",
    "# Ignore ConvergenceWarning\n",
    "warnings.filterwarnings('ignore', category=ConvergenceWarning) ###\n",
    "\n",
    "estimators = [('poly', PolynomialFeatures(degree=1)), ('clf', LogisticRegression(max_iter=10000))]\n",
    "pipe = Pipeline(estimators)\n",
    "\n",
    "# Define the range of degrees to test\n",
    "degrees = range(1, 10)\n",
    "\n",
    "# Initialize a list to store the validation accuracies\n",
    "val_accuracies = []\n",
    "\n",
    "# Loop over the degrees\n",
    "for degree in degrees:\n",
    "    # Update the degree in the pipeline\n",
    "    pipe.set_params(poly__degree=degree)\n",
    "    \n",
    "    # Fit the pipeline on the training data\n",
    "    pipe.fit(X_train, y_train)\n",
    "    \n",
    "    # Predict on the validation set\n",
    "    y_val_pred = pipe.predict(X_val)\n",
    "    \n",
    "    # Compute the validation accuracy\n",
    "    val_accuracy = accuracy_score(y_val, y_val_pred)\n",
    "    \n",
    "    # Store the validation accuracy\n",
    "    val_accuracies.append(val_accuracy)\n",
    "\n",
    "degree_best = np.argmax(val_accuracies)+1\n",
    "print(f\"Best degree: {degree_best} with a value of {val_accuracies[degree_best]*100:.2f}%\")\n",
    "\n",
    "\n",
    "plt.plot(degrees, val_accuracies)\n",
    "plt.xlabel('Degree')\n",
    "plt.ylabel('Validation Accuracy')\n",
    "plt.show()\n",
    "\n"
   ]
  },
  {
   "cell_type": "code",
   "execution_count": null,
   "metadata": {},
   "outputs": [],
   "source": [
    "from utils import plot_2d_decisionboundary\n",
    "\n",
    "# TODO: Given the best polynomial degree, train your model again, report the test accuracy and plot the decision boundary.\n",
    "#       Here you can use plot_2d_decisionboundary() from utils.py, because plotting the decision boundary with preprocessing is more complicated.\n",
    "#       Instead of calculating the decision boundary exactly, the function uses a grid-based approach, where each (x,y) position in the plot is colored\n",
    "#       according to the prediction of the estimator given (x,y).\n",
    "\n",
    "estimators_2 = [('poly', PolynomialFeatures(degree=degree_best)), ('clf', LogisticRegression(max_iter=100000))]\n",
    "pipe_2 = Pipeline(estimators_2)\n",
    "pipe_2.fit(X_train, y_train)\n",
    "y_test_pred = pipe_2.predict(X_test)\n",
    "test_accuracy = accuracy_score(y_test, y_test_pred)\n",
    "print(f'Test Accuracy: {test_accuracy}')\n",
    "\n",
    "plot_2d_decisionboundary(pipe_2, X_test, y_test, title=\"Decision Boundary on Test Data\")\n"
   ]
  },
  {
   "cell_type": "markdown",
   "metadata": {},
   "source": [
    "**TODO:** Report your results. Answer the following questions in full sentences.\n",
    "\n",
    "* What degrees did you try out and why?  \n",
    ">\n",
    "\n",
    "* For what degree does the pipeline perform best?  \n",
    "> \n",
    "\n",
    "* Would this polynomial degree also perform best on another dataset?  \n",
    "> "
   ]
  },
  {
   "cell_type": "markdown",
   "metadata": {},
   "source": [
    "We were asked in this last TODO to apply polynomial preprocessing before fitting logistic regression to achieve better performance, so we needed to find the best polynomial degree for the decision boundary of the logistic regression. As degrees we tried to focus on the natural numbers between $1$ and $10$, because degree zero (line paralel of the x axis) had clearly no sense and taking bigger numbers than $10$ would produce a overly flexible boundary that would make impossible to classify new samples (as we already explained for KNN for the bias-variance trade off).\n",
    "\n",
    "We saw that in terms of validation accuracy we reached the higher value $95,83\\%$ for $k=3$. So we decided to use a polynomial of degree $3$.\n",
    "\n",
    "\n",
    "\n",
    "\n",
    "\n",
    "**PIPELINE????**\n",
    "\n",
    "As we said for KNN, the chosen degree for the boundary in logistic regression won't in general perform best on another dataset as well, because of a bias-variance trade off, every dataset may de distribuited in a particular way that makes impossibile to say which specific polynomial degree would fit the best, it depends at most from the distribuition of the samples."
   ]
  },
  {
   "cell_type": "markdown",
   "metadata": {
    "id": "edHXCg-IzkJg"
   },
   "source": [
    "## 1c) Comparing kNN and Logistic Regression\n",
    "We want you to compare the kNN and the logistic regression classifier. For logistic regression use logistic regression with and without polynomial preprocessing. Use the previous dataset (dataset 5) and dataset 1.\n",
    "\n",
    "**TODO:** Compare the performance of the kNN and Logistic Regression classifiers you trained before. You can skip the hyperparameter tuning and use the best k and polynomial degree from before. Therefor, a simple train-test split is sufficient (e.g. 70:30)\n",
    "- compare the accuracies\n",
    "- it may be useful to plot the decision boundaries for both classifiers (feel free to use plot_2d_decisionboundary() from the code snippet below)"
   ]
  },
  {
   "cell_type": "code",
   "execution_count": null,
   "metadata": {
    "id": "aOIj3_vUzkJh"
   },
   "outputs": [],
   "source": [
    "# TODO: Plot the data and the decision boundary of the classifiers. plot_2d_decisionboundary() in utils.py can be used.\n",
    "#       Add more code if helpful for the comparison of the classifiers. Use the datasets dataset_1.npz and dataset_2.npz\n",
    "\n",
    "from utils import plot_classification_dataset # plot the data\n",
    "from sklearn.model_selection import train_test_split\n",
    "from sklearn.utils import shuffle  \n",
    "\n",
    "def train(dataset):\n",
    "    \"\"\"\n",
    "    Train kNN & Log.Reg. on a given dataset and plot the dataset as well as the\n",
    "    model's decision boundary\n",
    "    \n",
    "    Params:\n",
    "        dataset: name of the datase\n",
    "    \n",
    "    Examples:\n",
    "        train('dataset_1')\n",
    "    \"\"\"\n",
    "    \n",
    "    # TODO\n",
    "    \n",
    "    # Load the dataset\n",
    "    data = np.load(f'{dataset}.npz')\n",
    "    X = data['X']\n",
    "    y = data['y']\n",
    "\n",
    "    # Split the dataset into training and testing sets\n",
    "    # X, y = shuffle(X, y, random_state=0)\n",
    "    X_train, X_test, y_train, y_test = train_test_split(X, y, test_size=0.3, random_state=42)\n",
    "\n",
    "    # Train kNN\n",
    "    knn = KNeighborsClassifier(n_neighbors=optimal_k)\n",
    "    knn.fit(X_train, y_train)\n",
    "\n",
    "    # Train Logistic Regression\n",
    "    logreg = LogisticRegression(max_iter=10000)\n",
    "    logreg.fit(X_train, y_train)\n",
    "\n",
    "    # Train Logistic Regression with Polynomial Preprocessing\n",
    "    poly_logreg = Pipeline([('poly', PolynomialFeatures(degree=degree_best)), ('clf', LogisticRegression(max_iter=10000))])\n",
    "    poly_logreg.fit(X_train, y_train)\n",
    "\n",
    "    # Compare accuracies\n",
    "    print(f'kNN Accuracy on test set  {accuracy_score(y_test, knn.predict(X_test))}')\n",
    "    print(f'Logistic Regression Accuracy on test set: {accuracy_score(y_test, logreg.predict(X_test))}')\n",
    "    print(f'Logistic Regression with Polynomial Preprocessing Accuracy on test set: {accuracy_score(y_test, poly_logreg.predict(X_test))}')\n",
    "\n",
    "    # Plot the data and the decision boundaries\n",
    "    plot_classification_dataset(X_train, y_train, title=\"Training Data\")\n",
    "    plot_2d_decisionboundary(knn, X_train, y_train, title=\"kNN Decision Boundary\")\n",
    "    plot_2d_decisionboundary(logreg, X_train, y_train, title=\"Logistic Regression Decision Boundary\")\n",
    "    plot_2d_decisionboundary(poly_logreg, X_train, y_train, title=\"Logistic Regression with Polynomial Preprocessing Decision Boundary\")\n"
   ]
  },
  {
   "cell_type": "code",
   "execution_count": null,
   "metadata": {},
   "outputs": [],
   "source": [
    "train(\"dataset_1\")"
   ]
  },
  {
   "cell_type": "code",
   "execution_count": null,
   "metadata": {},
   "outputs": [],
   "source": [
    "train(\"dataset_2\")"
   ]
  },
  {
   "cell_type": "markdown",
   "metadata": {
    "id": "ANBVeSXjzkJn"
   },
   "source": [
    "**TODO:** Describe your results and analyze them: Is one model performing better than the other? Is there a difference in the datasets causing this behavior?"
   ]
  },
  {
   "cell_type": "markdown",
   "metadata": {},
   "source": [
    "**Answer:**\n",
    "\n",
    "*dataset_1*:  \n",
    "...\n",
    "\n",
    "\n",
    "*dataset_2*:  \n",
    "...\n"
   ]
  },
  {
   "cell_type": "markdown",
   "metadata": {},
   "source": [
    "# Part 2: Model evaluation (10 points)\n",
    "\n",
    "Consider the following scenario: Two groups of students work on this assignment. They both use the function below to generate a train-test split and compare the performance of kNN and Logistic Regression. However both groups achieve different results. The code snippet below shows how they handled the comparison.\n",
    "Fill the TODOs for training and evaluation of kNN and Logistic Regression with the given hyperparameters."
   ]
  },
  {
   "cell_type": "code",
   "execution_count": null,
   "metadata": {},
   "outputs": [],
   "source": [
    "data_set = np.load('dataset_2.npz')\n",
    "X = data_set['X']\n",
    "y = data_set['y']\n",
    "\n",
    "n = X.shape[0]\n",
    "\n",
    "def train_knn(X_train, X_test, y_train, y_test):\n",
    "    # Train a kNN classifier with k=5\n",
    "    knn_comparison = KNeighborsClassifier(n_neighbors=5)\n",
    "    knn_comparison.fit(X_train, y_train)\n",
    "\n",
    "    # Report the test accuracy\n",
    "    accuracy_comparison = knn.score(X_test, y_test)\n",
    "    print(f'kNN Accuracy: {accuracy_comparison}')\n",
    "\n",
    "def train_logreg(X_train, X_test, y_train, y_test):\n",
    "    # Train a logistic regression pipeline with polynomial preprocessing (deg=2)\n",
    "    pipe_comparison = Pipeline([('poly', PolynomialFeatures(degree=2)), ('clf', LogisticRegression(max_iter=10000))])\n",
    "    pipe_comparison.fit(X_train, y_train)\n",
    "\n",
    "    # Report the test accuracy\n",
    "    accuracy_comparison = pipe_comparison.score(X_test, y_test)\n",
    "    print(f'Logistic Regression Accuracy: {accuracy_comparison}')\n",
    "\n",
    "    \n",
    "def group1_eval():\n",
    "    print(\"group1:\")\n",
    "    n_train = int(4*n/5)\n",
    "    X_train = X[:n_train]\n",
    "    X_test = X[n_train:]\n",
    "    y_train = y[:n_train]\n",
    "    y_test = y[n_train:]\n",
    "    \n",
    "    train_knn(X_train, X_test, y_train, y_test)\n",
    "    train_logreg(X_train, X_test, y_train, y_test)\n",
    "    \n",
    "    \n",
    "def group2_eval():\n",
    "    print(\"group2\")\n",
    "    n_test = int(n/5)\n",
    "    X_train = X[n_test:]\n",
    "    X_test = X[:n_test]\n",
    "    y_train = y[n_test:]\n",
    "    y_test = y[:n_test]\n",
    "    \n",
    "    train_knn(X_train, X_test, y_train, y_test)\n",
    "    train_logreg(X_train, X_test, y_train, y_test)\n",
    "    \n",
    "group1_eval()\n",
    "group2_eval()"
   ]
  },
  {
   "cell_type": "markdown",
   "metadata": {},
   "source": [
    "**TODO:** Explain why they achieve different results. Can you think of any better strategy than the simple train-test split to make the results more comparable? Feel free to add some code to underline your points or show your recommended approach.\n",
    "\n",
    "* What do you think, whose results are correct?\n",
    "> \n",
    "* How could they improve their evaluation to be more confident about the results? (hint: If we make a statement like classifier 1 outperforms classifier 2 on this dataset, the statement should be representative for the whole dataset. As always, efficient solutions are preferable!)\n",
    "> "
   ]
  },
  {
   "cell_type": "markdown",
   "metadata": {},
   "source": [
    "The two goups of students obtained different results, because pof the way they split the data into training and testing sets, because the left procedure remained exactly the same.\n",
    "\n",
    "The first group used the first $80\\%$ of the data for training and the last $20\\%$ for testing. The other group, on the other hand, uses the first $20\\%$ of the data for testing and the last $80\\%$ for training. Since we don't know where the data come from we may suspect that they have been ordered in a specific way or that they have been collected in a chronological order, which would impact a lot in a spit of the data set in training and test set, and in fact the results can be seen in the accuracy.\n",
    "\n",
    "A only way to make the results comparable is to pick randomically the samples from the dataset to divide in training and test set both for the first and second group. Another way to be more sure that the data are reliable is that the two groups use k-fold cross-validation. In k-fold cross-validation, the data is divided into k subsets. The model is then trained k times, each time using k-1 subsets for training and the remaining subset for testing. The performance is then averaged over the k iterations. Through this approch we can be sure that the data are picked randomically so many times that \"they can behave in the same way\" and can provide the same results. In fact this will be our approach later.\n",
    "\n",
    "Since we don't know how they data are ordered we can not say from the very beginning whose results are correct. Both if they are randomically sampled such as if they were in chronological order."
   ]
  },
  {
   "cell_type": "code",
   "execution_count": null,
   "metadata": {},
   "outputs": [],
   "source": [
    "# TODO: Implement your recommended approach.\n",
    "from sklearn.model_selection import cross_val_score\n",
    "\n",
    "def cross_val_knn(X, y):\n",
    "    knn_cross = KNeighborsClassifier(n_neighbors=5)\n",
    "    scores = cross_val_score(knn_cross, X, y, cv=5)\n",
    "    print(f'kNN Cross-validation Accuracy: {np.mean(scores)}')\n",
    "\n",
    "def cross_val_logreg(X, y):\n",
    "    pipe_cross = Pipeline([('poly', PolynomialFeatures(degree=2)), ('clf', LogisticRegression(max_iter=10000))])\n",
    "    scores = cross_val_score(pipe_cross, X, y, cv=5)\n",
    "    print(f'Logistic Regression Cross-validation Accuracy: {np.mean(scores)}')\n",
    "\n",
    "cross_val_knn(X, y)\n",
    "cross_val_logreg(X, y)"
   ]
  },
  {
   "cell_type": "markdown",
   "metadata": {},
   "source": [
    "# Part 3: Yet another Dataset (15 points)"
   ]
  },
  {
   "cell_type": "code",
   "execution_count": 10,
   "metadata": {},
   "outputs": [],
   "source": [
    "import numpy as np\n",
    "from sklearn.model_selection import train_test_split\n",
    "from sklearn.neighbors import KNeighborsClassifier\n",
    "from sklearn.linear_model import LogisticRegression\n",
    "from sklearn.metrics import accuracy_score \n",
    "import  matplotlib.pyplot as plt"
   ]
  },
  {
   "cell_type": "code",
   "execution_count": 11,
   "metadata": {},
   "outputs": [
    {
     "name": "stdout",
     "output_type": "stream",
     "text": [
      "kNN Accuracy: 0.9833333333333333\n",
      "Logistic Regression Accuracy: 0.8733333333333333\n"
     ]
    }
   ],
   "source": [
    "# TODO: * Load dataset_3.npz (data is stored again in X and in y)\n",
    "#       * Train and report the accuracy for the kNN and the logistic regression classifier. Use logistic regression without polynomial preprocessing.\n",
    "#       * You may use a simple train-test split or your proposed strategy from part 2.\n",
    "\n",
    "data_set = np.load('dataset_3.npz')\n",
    "X = data_set['X']\n",
    "y = data_set['y']\n",
    "\n",
    "X_train, X_test, y_train, y_test = train_test_split(X, y, test_size=0.3, random_state=42)\n",
    "# Train a kNN classifier with k=5\n",
    "knn_3 = KNeighborsClassifier(n_neighbors=5)\n",
    "knn_3.fit(X_train, y_train)\n",
    "\n",
    "# Train a Logistic Regression classifier\n",
    "logreg_3 = LogisticRegression(max_iter=10000)\n",
    "logreg_3.fit(X_train, y_train)\n",
    "\n",
    "knn_accuracy = knn_3.score(X_test, y_test)\n",
    "logreg_accuracy = logreg_3.score(X_test, y_test)\n",
    "\n",
    "print(f'kNN Accuracy: {knn_accuracy}')\n",
    "print(f'Logistic Regression Accuracy: {logreg_accuracy}')\n"
   ]
  },
  {
   "cell_type": "code",
   "execution_count": 12,
   "metadata": {},
   "outputs": [
    {
     "name": "stdout",
     "output_type": "stream",
     "text": [
      "Class 0 - kNN Accuracy on test set: 0.9333333333333333\n",
      "Class 0 - Logistic Regression Accuracy on test set: 0.4444444444444444\n",
      "Class 1 - kNN Accuracy on test set: 0.9921568627450981\n",
      "Class 1 - Logistic Regression Accuracy on test set: 0.9490196078431372\n"
     ]
    }
   ],
   "source": [
    "# TODO: Report the accuracy for each class. To report the accuracy for class i, compute the accuracy score only on samples that belong to class i.\n",
    "\n",
    "# Get the unique classes in the target variable\n",
    "classes = np.unique(y)\n",
    "\n",
    "# For each class\n",
    "for i in classes:\n",
    "    # Create a mask for the current class\n",
    "    mask = y_test == i\n",
    "\n",
    "    # Calculate the accuracy for the current class\n",
    "    knn_accuracy = accuracy_score(y_test[mask], knn_3.predict(X_test[mask]))\n",
    "    logreg_accuracy = accuracy_score(y_test[mask], logreg_3.predict(X_test[mask]))\n",
    "\n",
    "    # Print the accuracy for the current class\n",
    "    print(f'Class {i} - kNN Accuracy on test set: {knn_accuracy}')\n",
    "    print(f'Class {i} - Logistic Regression Accuracy on test set: {logreg_accuracy}')\n",
    "\n"
   ]
  },
  {
   "cell_type": "markdown",
   "metadata": {},
   "source": [
    "**TODO:** Describe your results and analyze them: Do you observe any problematic behavior?\n",
    "> "
   ]
  },
  {
   "cell_type": "markdown",
   "metadata": {},
   "source": [
    "As we can see from the accuracy obtained through KNN, the samples are classified very well for $k=5$, because we obtained values greater that $90\\%$ for both of them.\n",
    "\n",
    "On the other hand, we can not rely on Logistic regression since even if we got a high accuracy on the test set for the classification of class $1$, less than a half of the observations are classified correctly in class $0$.\n",
    "\n",
    "Now we start investigating on the reason why the accuracy is so low for logistic regression."
   ]
  },
  {
   "cell_type": "code",
   "execution_count": null,
   "metadata": {},
   "outputs": [],
   "source": [
    "# TODO: analyze the dataset; focus on possible reasons for above mentioned problems.\n",
    "#       You might consider plotting the data.\n",
    "\n",
    "# Number of samples\n",
    "num_samples = X.shape[0]\n",
    "print(f\"Number of samples: {num_samples}\")"
   ]
  },
  {
   "cell_type": "markdown",
   "metadata": {},
   "source": [
    "We have one thousand samples, so the reason may not be the fact that we have trained a model with not so many samples."
   ]
  },
  {
   "cell_type": "code",
   "execution_count": null,
   "metadata": {},
   "outputs": [],
   "source": [
    "# Unique labels in the dataset\n",
    "unique_labels = np.unique(y)\n",
    "num_labels = len(unique_labels)\n",
    "print(f\"There are {num_labels} unique labels in the dataset: {unique_labels}\")"
   ]
  },
  {
   "cell_type": "markdown",
   "metadata": {},
   "source": [
    "We have two labels in this dataset, let's study more how they are divided."
   ]
  },
  {
   "cell_type": "code",
   "execution_count": null,
   "metadata": {},
   "outputs": [],
   "source": [
    "# Count of each label (bincount counts the number of occurrencies for each value in an array)\n",
    "label_counts = np.bincount(y)\n",
    "# Print the count of each label (enumerate returns a tuple with the index and the value of the array)))\n",
    "for label, count in enumerate(label_counts):\n",
    "    print(f\"Count of label {label}: {count}\")"
   ]
  },
  {
   "cell_type": "markdown",
   "metadata": {},
   "source": [
    "From this output is clear that the data of samples belong more to the class $1$ which would explain why ther's a higher chance of classifing them correctly, but this doesn't explain why KNN performs better. We also plot the data to see it even more clearly:"
   ]
  },
  {
   "cell_type": "code",
   "execution_count": 13,
   "metadata": {},
   "outputs": [
    {
     "data": {
      "image/png": "[encoded data removed]",
      "text/plain": [
       "<Figure size 640x480 with 1 Axes>"
      ]
     },
     "metadata": {},
     "output_type": "display_data"
    }
   ],
   "source": [
    "plt.scatter(X[y==0, 0], X[y==0, 1],edgecolor='k', label='Class 0')\n",
    "plt.scatter(X[y==1, 0], X[y==1, 1],edgecolor='k', label='Class 1')\n",
    "\n",
    "plt.legend()\n",
    "plt.show()"
   ]
  },
  {
   "cell_type": "markdown",
   "metadata": {},
   "source": [
    "**TODO:** Discuss the properties of the dataset and how they influence the performance of the classifiers.\n",
    "\n",
    "> "
   ]
  },
  {
   "cell_type": "code",
   "execution_count": 20,
   "metadata": {},
   "outputs": [
    {
     "name": "stdout",
     "output_type": "stream",
     "text": [
      "For y=0:\n",
      "Max X[0]: 9.84086573373473\n",
      "Min X[0]: -9.425676940715634\n",
      "Max X[1]: 8.121528145167192\n",
      "Min X[1]: -11.671808485639403\n",
      "\n",
      "For y=1:\n",
      "Max X[0]: 20.05382526651684\n",
      "Min X[0]: -18.855849116657105\n",
      "Max X[1]: 20.922041305439514\n",
      "Min X[1]: -13.646549397587561\n"
     ]
    }
   ],
   "source": [
    "# Values where y is 0\n",
    "X_y0 = X[y == 0]\n",
    "\n",
    "# Values where y is 1\n",
    "X_y1 = X[y == 1]\n",
    "\n",
    "# Find the maximum and minimum for X[0] and X[1] where y is 0\n",
    "max_X0_y0 = np.max(X_y0[:, 0])\n",
    "min_X0_y0 = np.min(X_y0[:, 0])\n",
    "max_X1_y0 = np.max(X_y0[:, 1])\n",
    "min_X1_y0 = np.min(X_y0[:, 1])\n",
    "\n",
    "# Find the maximum and minimum for X[0] and X[1] where y is 1\n",
    "max_X0_y1 = np.max(X_y1[:, 0])\n",
    "min_X0_y1 = np.min(X_y1[:, 0])\n",
    "max_X1_y1 = np.max(X_y1[:, 1])\n",
    "min_X1_y1 = np.min(X_y1[:, 1])\n",
    "\n",
    "# Print the results\n",
    "print(\"For y=0:\")\n",
    "print(\"Max X[0]:\", max_X0_y0)\n",
    "print(\"Min X[0]:\", min_X0_y0)\n",
    "print(\"Max X[1]:\", max_X1_y0)\n",
    "print(\"Min X[1]:\", min_X1_y0)\n",
    "\n",
    "print(\"\\nFor y=1:\")\n",
    "print(\"Max X[0]:\", max_X0_y1)\n",
    "print(\"Min X[0]:\", min_X0_y1)\n",
    "print(\"Max X[1]:\", max_X1_y1)\n",
    "print(\"Min X[1]:\", min_X1_y1)\n"
   ]
  },
  {
   "cell_type": "markdown",
   "metadata": {},
   "source": [
    "As we can see the samples from class $0$ are contained in the box $[-9.43,9.84]\\times [-11.67,8.12]$ and the samples from class $1$ are contained in the box $[-18.85,20.05]\\times [-13.65,20.92]$. From the plot is even more clear that if we consider a decision boundary of degree $1$ it's easy to understand that in such a plot it would perform very badly in classify samples from class 0. On the other hand considering KNN classifiers, for $k=5$, we would create a less linear boundary that may classify better the samples of such a dataset."
   ]
  },
  {
   "cell_type": "markdown",
   "metadata": {},
   "source": [
    "**TODO:** Given your results and the properties of the data, reflect on accuracy (over all classes) as a metric. Propose another metric that would be better suited for this kind of dataset and explain why. Adjustments to accuracy are fine, too.\n",
    "\n",
    "> \n"
   ]
  },
  {
   "cell_type": "markdown",
   "metadata": {},
   "source": [
    "##################################\n",
    "Accuracy is a common metric for classification problems. It measures the proportion of correct predictions over all predictions. However, accuracy can be misleading when the classes are imbalanced. If one class has significantly more samples than another, a model could achieve a high accuracy by simply predicting the majority class for all samples.\n",
    "\n",
    "In such cases, other metrics might be more informative. Here are a few options:\n",
    "\n",
    "1. **Precision**: Precision measures the proportion of true positive predictions (i.e., the model correctly predicted the positive class) among all positive predictions. It's a good metric when the cost of a false positive is high.\n",
    "\n",
    "2. **Recall (or Sensitivity)**: Recall measures the proportion of true positive predictions among all actual positive instances. It's a good metric when the cost of a false negative is high.\n",
    "\n",
    "3. **F1 Score**: The F1 score is the harmonic mean of precision and recall. It tries to balance the trade-off between precision and recall.\n",
    "\n",
    "4. **Area Under the Receiver Operating Characteristic Curve (AUC-ROC)**: AUC-ROC considers the trade-off between the true positive rate (recall) and false positive rate (1 - specificity) for different threshold values. It's a good metric when both false positives and false negatives are important.\n",
    "\n",
    "5. **Balanced Accuracy**: Balanced accuracy is the average of recall obtained on each class. It's useful for imbalanced datasets.\n",
    "\n",
    "The choice of metric depends on the specific problem and the cost associated with different types of errors (false positives and false negatives). For example, if it's important not to miss any positive instances, you might want to optimize for recall. If it's important to be very sure about your positive predictions, you might want to optimize for precision."
   ]
  },
  {
   "cell_type": "code",
   "execution_count": null,
   "metadata": {},
   "outputs": [],
   "source": [
    "from sklearn.metrics import precision_score, recall_score, f1_score, roc_auc_score, balanced_accuracy_score\n",
    "\n",
    "models = [knn, knn_optimal, logisticReg, pipe,pipe_2,knn_3, logreg_3]\n",
    "model_names = ['knn', 'knn_optimal', 'logreg', 'pipe','pipe_2','knn_3', 'logreg']\n",
    "\n",
    "for logisticReg, name in zip(models, model_names):\n",
    "    y_pred = logisticReg.predict(X_test)\n",
    "\n",
    "    print(f'Model: {name}')\n",
    "    print(f'Precision: {precision_score(y_test, y_pred)}')\n",
    "    print(f'Recall: {recall_score(y_test, y_pred)}')\n",
    "    print(f'F1 Score: {f1_score(y_test, y_pred)}')\n",
    "    print(f'AUC-ROC: {roc_auc_score(y_test, y_pred)}')\n",
    "    print(f'Balanced Accuracy: {balanced_accuracy_score(y_test, y_pred)}')\n",
    "    print('\\n')\n"
   ]
  },
  {
   "cell_type": "code",
   "execution_count": null,
   "metadata": {},
   "outputs": [],
   "source": []
  }
 ],
 "metadata": {
  "colab": {
   "collapsed_sections": [
    "HCypy1U8zkI0",
    "qxex3z5tzkJR",
    "edHXCg-IzkJg"
   ],
   "name": "Copy of Project1.ipynb",
   "provenance": []
  },
  "kernelspec": {
   "display_name": "Python 3 (ipykernel)",
   "language": "python",
   "name": "python3"
  },
  "language_info": {
   "codemirror_mode": {
    "name": "ipython",
    "version": 3
   },
   "file_extension": ".py",
   "mimetype": "text/x-python",
   "name": "python",
   "nbconvert_exporter": "python",
   "pygments_lexer": "ipython3",
   "version": "3.10.11"
  },
  "toc": {
   "base_numbering": 1,
   "nav_menu": {},
   "number_sections": true,
   "sideBar": true,
   "skip_h1_title": false,
   "title_cell": "Table of Contents",
   "title_sidebar": "Contents",
   "toc_cell": false,
   "toc_position": {},
   "toc_section_display": true,
   "toc_window_display": false
  }
 },
 "nbformat": 4,
 "nbformat_minor": 4
}
