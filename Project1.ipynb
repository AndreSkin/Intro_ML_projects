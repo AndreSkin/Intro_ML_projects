{
 "cells": [
  {
   "cell_type": "markdown",
   "metadata": {
    "id": "gfUt7BmNzkIx"
   },
   "source": [
    "# Project 1: First steps in Machine Learning (70 Points)\n",
    "In this project, you will train and evaluate your first machine learning models. We provide a structure with a lot of **TODO**s guiding you through the work. Please read the following information carefully.\n",
    "\n",
    "## Grading\n",
    "You can gain a total of 70 points in this project.\n",
    "\n",
    "Please follow the **TODO**s in this notebook. There are practical and theoretical tasks to do.<br>\n",
    "When working on the tasks please consider the following information:\n",
    "* write short texts in **full sentences** answering the TODOs. Note, that analyzing the theoratical parts of the project give roughly 2/3 of all points (at least in part 1)\n",
    "* when describing classifiers explain at least the training, testing, and the hyper-parameters\n",
    "* have a look at all imports in this notebook; they already define which method you should use\n",
    "\n",
    "\n",
    "## Organizational and Deadline\n",
    "On Monday, **November 13th**, there will be a Q&A session in the tutorials! Start to work on this project **from now on** and take the offer to resolve any remaining ambiguity.\n",
    "This assignment is due on **November 21st**. Please upload your solution to the Lernraum+ as an ipynb-file.<br>\n",
    "For a submission you need to be part of a assignment group."
   ]
  },
  {
   "cell_type": "markdown",
   "metadata": {
    "id": "HCypy1U8zkI0"
   },
   "source": [
    "# Part 1: Training your first models (45 points)"
   ]
  },
  {
   "cell_type": "code",
   "execution_count": 68,
   "metadata": {
    "id": "197KcJbGzkI3"
   },
   "outputs": [],
   "source": [
    "import numpy as np\n",
    "# load dataset_1.npz\n",
    "# the data and labels are saved in X and y, respectively\n",
    "data_set = np.load('dataset_1.npz')\n",
    "X = data_set['X']\n",
    "y = data_set['y']"
   ]
  },
  {
   "cell_type": "markdown",
   "metadata": {},
   "source": [
    "### The first dataset"
   ]
  },
  {
   "cell_type": "code",
   "execution_count": 69,
   "metadata": {
    "id": "Pp0Fida7zkJA"
   },
   "outputs": [
    {
     "name": "stdout",
     "output_type": "stream",
     "text": [
      "[[ -2.90736588 -10.4482336 ]\n",
      " [  4.18121386  -3.32887987]\n",
      " [  9.70396533  -8.0533609 ]\n",
      " ...\n",
      " [ -6.57325233  -5.42912803]\n",
      " [  9.66376838   9.74861342]\n",
      " [ 11.26883707  -0.29310154]]\n",
      "[0 1 0 ... 0 0 0]\n"
     ]
    }
   ],
   "source": [
    "# TODO: take a closer look at the dataset, e.g. number of samples, dimensionality, labels, etc.\n",
    "np.set_printoptions(threshold=3)\n",
    "\n",
    "print(X)\n",
    "print(y)"
   ]
  },
  {
   "cell_type": "markdown",
   "metadata": {},
   "source": [
    "This is a preview of the first and last three rows of our dataset, we investigate more on the range of values taken"
   ]
  },
  {
   "cell_type": "code",
   "execution_count": 70,
   "metadata": {},
   "outputs": [
    {
     "name": "stdout",
     "output_type": "stream",
     "text": [
      "Maximum value of the first column -2.9073658772060376\n",
      "Maximum value of the second column 4.181213856657458\n",
      "Minimum value of the first column -10.448233596901602\n",
      "Minimum value of the second column -3.3288798667319672\n"
     ]
    }
   ],
   "source": [
    "print(f'Maximum value of the first column {np.max(X[0])}')\n",
    "print(f'Maximum value of the second column {np.max(X[1])}')\n",
    "\n",
    "print(f'Minimum value of the first column {np.min(X[0])}')\n",
    "print(f'Minimum value of the second column {np.min(X[1])}')"
   ]
  },
  {
   "cell_type": "code",
   "execution_count": 71,
   "metadata": {},
   "outputs": [
    {
     "name": "stdout",
     "output_type": "stream",
     "text": [
      "Number of samples: 800\n",
      "Dimensionality of the data: 2\n",
      "There are 2 unique labels in the dataset: [0 1]\n",
      "Count of label 0: 400\n",
      "Count of label 1: 400\n"
     ]
    }
   ],
   "source": [
    "# Number of samples\n",
    "num_samples = X.shape[0]\n",
    "print(f\"Number of samples: {num_samples}\")\n",
    "\n",
    "# Dimensionality of the data\n",
    "dim = X.shape[1]\n",
    "print(f\"Dimensionality of the data: {dim}\")\n",
    "\n",
    "# Unique labels in the dataset\n",
    "unique_labels = np.unique(y)\n",
    "num_labels = len(unique_labels)\n",
    "print(f\"There are {num_labels} unique labels in the dataset: {unique_labels}\")\n",
    "\n",
    "# Count of each label (bincount counts the number of occurrencies for each value in an array)\n",
    "label_counts = np.bincount(y)\n",
    "# Print the count of each label (enumerate returns a tuple with the index and the value of the array)))\n",
    "for label, count in enumerate(label_counts):\n",
    "    print(f\"Count of label {label}: {count}\")"
   ]
  },
  {
   "cell_type": "markdown",
   "metadata": {},
   "source": [
    "We are dealing with a dataset of $800$ samples. The independent variables are $X_1$ and $X_2$ which are variables that take values in $[-10.45,-2.90]$ for $X_1$ and $[-3.33,4.18]$ for $X_2$. The dependent variable is $y$ that only takes values in $\\{0,\\;1\\}$, we have half samples labelled with $0$ and the other half labelled with $1$."
   ]
  },
  {
   "cell_type": "code",
   "execution_count": 72,
   "metadata": {},
   "outputs": [
    {
     "name": "stdout",
     "output_type": "stream",
     "text": [
      "The number of NaNs in the dataset is 0 for X1, 0 for X2, 0 for y\n"
     ]
    }
   ],
   "source": [
    "num_nan_x0 = np.isnan(X[0]).sum()\n",
    "num_nan_x1 = np.isnan(X[1]).sum()\n",
    "num_nan_y = np.isnan(y).sum()\n",
    "\n",
    "print(f\"The number of NaNs in the dataset is {num_nan_x0} for X1, {num_nan_x1} for X2, {num_nan_y} for y\")"
   ]
  },
  {
   "cell_type": "markdown",
   "metadata": {},
   "source": [
    "We have no NaNs in the dataset."
   ]
  },
  {
   "cell_type": "markdown",
   "metadata": {},
   "source": [
    "### Splitting the data\n",
    "\n",
    "For Part 1 of the exercise, use this data split:"
   ]
  },
  {
   "cell_type": "code",
   "execution_count": 73,
   "metadata": {},
   "outputs": [],
   "source": [
    "n_train = int(0.7*X.shape[0])\n",
    "n_test_val = int(0.15*X.shape[0])\n",
    "X_train = X[:n_train]\n",
    "y_train = y[:n_train]\n",
    "X_test = X[n_train:n_train+n_test_val]\n",
    "y_test = y[n_train:n_train+n_test_val]\n",
    "X_val = X[n_train+n_test_val:]\n",
    "y_val = y[n_train+n_test_val:]"
   ]
  },
  {
   "cell_type": "markdown",
   "metadata": {
    "id": "j-G-3Qj8zkJH"
   },
   "source": [
    "## 1a) kNN - Classifier\n",
    "\n",
    "### the Model\n",
    "\n",
    "**TODO:** Describe the kNN classifier"
   ]
  },
  {
   "cell_type": "markdown",
   "metadata": {},
   "source": [
    "kNN classifier is a non-parametric method. \n",
    "\n",
    "Given the dataset $\\mathcal{D}=\\{(\\vec{x}_i,y_i)\\in\\mathbb{R}^D\\times\\{1,\\;.\\;.\\;.,\\;C)\\}$, for a fixed $k\\in\\mathbb{N}_{>0}$, the idea of kNN is to estimate $\\mathbb{P}(y=j|X=x_0)$ by creating a set of points close to $x_0$ to classifie the test observation $x_0$ to the class with the largest probability.\n",
    "\n",
    "The accuracy of the classifier is defined as the percentage of ppoints which are classified correctly, i.e. $$accuracy(f,\\mathcal{D})=\\frac{|\\{\\vec{x}_i|(\\vec{X}_i,y_i)\\in\\mathcal{D},f(\\vec{x]_i)=y_i})|}{|\\mathcal{D}|}$$\n",
    "\n",
    "where for $\\mathcal{D}$ we can use the training set/ test set/ validation set."
   ]
  },
  {
   "cell_type": "code",
   "execution_count": 1,
   "metadata": {
    "id": "yoR7mM5o81n-"
   },
   "outputs": [
    {
     "name": "stderr",
     "output_type": "stream",
     "text": [
      "C:\\Users\\Annali\\AppData\\Local\\Packages\\PythonSoftwareFoundation.Python.3.10_qbz5n2kfra8p0\\LocalCache\\local-packages\\Python310\\site-packages\\scipy\\__init__.py:169: UserWarning: A NumPy version >=1.18.5 and <1.26.0 is required for this version of SciPy (detected version 1.26.1\n",
      "  warnings.warn(f\"A NumPy version >={np_minversion} and <{np_maxversion}\"\n"
     ]
    },
    {
     "ename": "NameError",
     "evalue": "name 'X_train' is not defined",
     "output_type": "error",
     "traceback": [
      "\u001b[1;31m---------------------------------------------------------------------------\u001b[0m",
      "\u001b[1;31mNameError\u001b[0m                                 Traceback (most recent call last)",
      "\u001b[1;32mc:\\Users\\Annali\\Desktop\\Università\\Magistrale\\Bielefeld\\Introduction to machine learning\\Project 1\\inx\\Project1.ipynb Cell 16\u001b[0m line \u001b[0;36m1\n\u001b[0;32m      <a href='vscode-notebook-cell:/c%3A/Users/Annali/Desktop/Universit%C3%A0/Magistrale/Bielefeld/Introduction%20to%20machine%20learning/Project%201/inx/Project1.ipynb#X21sZmlsZQ%3D%3D?line=8'>9</a>\u001b[0m knn \u001b[39m=\u001b[39m KNeighborsClassifier(n_neighbors\u001b[39m=\u001b[39m\u001b[39m3\u001b[39m)\n\u001b[0;32m     <a href='vscode-notebook-cell:/c%3A/Users/Annali/Desktop/Universit%C3%A0/Magistrale/Bielefeld/Introduction%20to%20machine%20learning/Project%201/inx/Project1.ipynb#X21sZmlsZQ%3D%3D?line=10'>11</a>\u001b[0m \u001b[39m# Train the classifier\u001b[39;00m\n\u001b[1;32m---> <a href='vscode-notebook-cell:/c%3A/Users/Annali/Desktop/Universit%C3%A0/Magistrale/Bielefeld/Introduction%20to%20machine%20learning/Project%201/inx/Project1.ipynb#X21sZmlsZQ%3D%3D?line=11'>12</a>\u001b[0m knn\u001b[39m.\u001b[39mfit(X_train, y_train)\n\u001b[0;32m     <a href='vscode-notebook-cell:/c%3A/Users/Annali/Desktop/Universit%C3%A0/Magistrale/Bielefeld/Introduction%20to%20machine%20learning/Project%201/inx/Project1.ipynb#X21sZmlsZQ%3D%3D?line=13'>14</a>\u001b[0m \u001b[39m# Predict the labels of the train set\u001b[39;00m\n\u001b[0;32m     <a href='vscode-notebook-cell:/c%3A/Users/Annali/Desktop/Universit%C3%A0/Magistrale/Bielefeld/Introduction%20to%20machine%20learning/Project%201/inx/Project1.ipynb#X21sZmlsZQ%3D%3D?line=14'>15</a>\u001b[0m y_train_pred \u001b[39m=\u001b[39m knn\u001b[39m.\u001b[39mpredict(X_train)\n",
      "\u001b[1;31mNameError\u001b[0m: name 'X_train' is not defined"
     ]
    }
   ],
   "source": [
    "# TODO: Train and evaluate a kNN classifier with k=3 and report the accuracy of the model on the train, validation and test set.\n",
    "#       Use the data as splitted above.\n",
    "\n",
    "# https://scikit-learn.org/stable/modules/generated/sklearn.neighbors.KNeighborsClassifier.html\n",
    "from sklearn.neighbors import KNeighborsClassifier\n",
    "from sklearn.metrics import accuracy_score \n",
    "\n",
    "# Create a kNN classifier object\n",
    "knn = KNeighborsClassifier(n_neighbors=3)\n",
    "\n",
    "# Train the classifier\n",
    "knn.fit(X_train, y_train)\n",
    "\n",
    "# Predict the labels of the train set\n",
    "y_train_pred = knn.predict(X_train)\n",
    "\n",
    "# Predict the labels of the validation set\n",
    "y_val_pred = knn.predict(X_val)\n",
    "\n",
    "# Predict the labels of the test set\n",
    "y_test_pred = knn.predict(X_test)\n",
    "\n",
    "# Calculate and print the accuracy on the train set\n",
    "train_accuracy = accuracy_score(y_train, y_train_pred)\n",
    "print(f\"Train accuracy: {train_accuracy*100:.2f}%\")\n",
    "\n",
    "# Calculate and print the accuracy on the validation set\n",
    "val_accuracy = accuracy_score(y_val, y_val_pred)\n",
    "print(f\"Validation accuracy: {val_accuracy*100:.2f}%\")\n",
    "\n",
    "# Calculate and print the accuracy on the test set\n",
    "test_accuracy = accuracy_score(y_test, y_test_pred)\n",
    "print(f\"Test accuracy: {test_accuracy*100:.2f}%\")\n"
   ]
  },
  {
   "cell_type": "markdown",
   "metadata": {},
   "source": [
    "**TODO:** Report your results."
   ]
  },
  {
   "cell_type": "markdown",
   "metadata": {},
   "source": [
    "The accuracy is very high for every set of samples, syntom that the model predicts good the dependent variable. As we expected the accuracy of the train set is the higher one, because the model had been trained on that specific part of the dataset."
   ]
  },
  {
   "cell_type": "code",
   "execution_count": 75,
   "metadata": {
    "id": "FY4-FS3LzkJI"
   },
   "outputs": [
    {
     "data": {
      "image/png": "[encoded data removed]",
      "text/plain": [
       "<Figure size 640x480 with 1 Axes>"
      ]
     },
     "metadata": {},
     "output_type": "display_data"
    },
    {
     "name": "stdout",
     "output_type": "stream",
     "text": [
      "Test accuracy with optimal k = 6: 93.33%\n"
     ]
    }
   ],
   "source": [
    "# TODO: Train and test the kNN classifier for different values of k on dataset 1.\n",
    "#       Use the train set to train the classifier and the validation set to evaluate the performance.\n",
    "#       Plot the validation accuracy for different values of k. Choose all possible values for k.\n",
    "#       Finally train the kNN classifier with the optimal k and report the accuracy on the test set.\n",
    "\n",
    "import matplotlib.pyplot as plt\n",
    "# Initialize the list of accuracies\n",
    "accuracies = []\n",
    "\n",
    "# Loop over all possible values of k\n",
    "for k in range(1, X_train.shape[0]+1):\n",
    "    # Create a kNN classifier object\n",
    "    knn = KNeighborsClassifier(n_neighbors=k)\n",
    "\n",
    "    # Train the classifier\n",
    "    knn.fit(X_train, y_train)\n",
    "\n",
    "    # Predict the labels of the validation set\n",
    "    y_val_pred = knn.predict(X_val)\n",
    "\n",
    "    # Calculate the accuracy on the validation set and append it to the list of accuracies\n",
    "    val_accuracy = accuracy_score(y_val, y_val_pred)\n",
    "    accuracies.append(val_accuracy)\n",
    "\n",
    "# Plot the validation accuracy for different values of k\n",
    "plt.plot(range(1, len(accuracies)+1), accuracies)\n",
    "plt.xlabel('k')\n",
    "plt.ylabel('Validation Accuracy')\n",
    "plt.grid()\n",
    "plt.show()\n",
    "\n",
    "# Find the optimal k (the one that gives the highest validation accuracy)\n",
    "optimal_k = np.argmax(accuracies) + 1\n",
    "\n",
    "# Train the kNN classifier with the optimal k\n",
    "knn_optimal = KNeighborsClassifier(n_neighbors=optimal_k)\n",
    "knn_optimal.fit(X_train, y_train)\n",
    "\n",
    "# Predict the labels of the test set\n",
    "y_test_pred_optimal = knn_optimal.predict(X_test)\n",
    "\n",
    "# Calculate and print the accuracy on the test set\n",
    "test_accuracy_optimal = accuracy_score(y_test, y_test_pred_optimal)\n",
    "print(f\"Test accuracy with optimal k = {optimal_k}: {test_accuracy_optimal*100:.2f}%\")\n"
   ]
  },
  {
   "cell_type": "markdown",
   "metadata": {},
   "source": [
    "We plotted the accuracy on the validation set depending on $k$ number of neighbours taken into account during the training. As we can see we reach a high accuracy until $k = 100$ and then it starts decreasing "
   ]
  },
  {
   "cell_type": "markdown",
   "metadata": {
    "id": "hoj8y_WWzkJQ"
   },
   "source": [
    "**TODO:** Answer the following questions in a **full text**.\n",
    "\n",
    "* Describe your choice of values of k. Why did you choose them?\n",
    "> \n",
    "* For which values of k does the model perform best?\n",
    "> \n",
    "* Would this value perform best on another dataset as well?\n",
    "> \n",
    "* What is the smallest and the greatest possible value for k? What would happen if we would choose these special values?\n",
    "> "
   ]
  },
  {
   "cell_type": "markdown",
   "metadata": {
    "id": "qxex3z5tzkJR"
   },
   "source": [
    "## 1b) Logistic Regression\n",
    "Let's try another model as well. We will use the same dataset and split as before."
   ]
  },
  {
   "cell_type": "markdown",
   "metadata": {
    "id": "dygg6SnkzkJX"
   },
   "source": [
    "### the Model\n",
    "\n",
    "**TODO:** Describe the logistic regression model"
   ]
  },
  {
   "cell_type": "code",
   "execution_count": 76,
   "metadata": {
    "id": "_nBBLXJMBSqI"
   },
   "outputs": [],
   "source": [
    "# TODO: * Train and test logistic regression on the same split of dataset_1.npz (report accuracy for train, test and validation)\n",
    "#       * Plot the dataset and the decision boundary, own implementation needed (see lecture slide 52 in slides1.pdf)\n",
    "#         where the decision boundary is optimized on the complete dataset (X).\n",
    "\n",
    "from sklearn.linear_model import LogisticRegression\n"
   ]
  },
  {
   "cell_type": "code",
   "execution_count": 77,
   "metadata": {},
   "outputs": [],
   "source": [
    "import matplotlib.pyplot as plt\n",
    "from matplotlib.colors import ListedColormap\n"
   ]
  },
  {
   "cell_type": "markdown",
   "metadata": {},
   "source": [
    "**TODO:** How does Logistic Regression perform on this dataset? How does this relate to the properties of the model and the dataset? Answer in full sentences.\n"
   ]
  },
  {
   "cell_type": "code",
   "execution_count": 78,
   "metadata": {},
   "outputs": [],
   "source": [
    "# TODO: To achieve better performance, we apply polynomial preprocessing before fitting logistic regression. Therefor, you may construct a pipeline as shown below.\n",
    "#       Similar to kNN, optimize the polynomial degree and plot performance for different values. Pass only one degree to PolynomialFeatures (not a tuple (min,max)) at each time\n",
    "#       and validate the whole pipeline!\n",
    "#       Remember to use the train set for training and the validation set to determine the optimal polynomial degree.\n",
    "\n",
    "from sklearn.preprocessing import PolynomialFeatures\n",
    "from sklearn.pipeline import Pipeline\n",
    "estimators = [('poly', PolynomialFeatures(degree=1)), ('clf', LogisticRegression(max_iter=10000))]\n",
    "pipe = Pipeline(estimators)"
   ]
  },
  {
   "cell_type": "code",
   "execution_count": 79,
   "metadata": {},
   "outputs": [],
   "source": [
    "from utils import plot_2d_decisionboundary\n",
    "\n",
    "# TODO: Given the best polynomial degree, train your model again, report the test accuracy and plot the decision boundary.\n",
    "#       Here you can use plot_2d_decisionboundary() from utils.py, because plotting the decision boundary with preprocessing is more complicated.\n",
    "#       Instead of calculating the decision boundary exactly, the function uses a grid-based approach, where each (x,y) position in the plot is colored\n",
    "#       according to the prediction of the estimator given (x,y)."
   ]
  },
  {
   "cell_type": "markdown",
   "metadata": {},
   "source": [
    "**TODO:** Report your results. Answer the following questions in full sentences.\n",
    "\n",
    "* What degrees did you try out and why?  \n",
    ">\n",
    "\n",
    "* For what degree does the pipeline perform best?  \n",
    "> \n",
    "\n",
    "* Would this polynomial degree also perform best on another dataset?  \n",
    "> "
   ]
  },
  {
   "cell_type": "markdown",
   "metadata": {
    "id": "edHXCg-IzkJg"
   },
   "source": [
    "## 1c) Comparing kNN and Logistic Regression\n",
    "We want you to compare the kNN and the logistic regression classifier. For logistic regression use logistic regression with and without polynomial preprocessing. Use the previous dataset (dataset 5) and dataset 1.\n",
    "\n",
    "**TODO:** Compare the performance of the kNN and Logistic Regression classifiers you trained before. You can skip the hyperparameter tuning and use the best k and polynomial degree from before. Therefor, a simple train-test split is sufficient (e.g. 70:30)\n",
    "- compare the accuracies\n",
    "- it may be useful to plot the decision boundaries for both classifiers (feel free to use plot_2d_decisionboundary() from the code snippet below)"
   ]
  },
  {
   "cell_type": "code",
   "execution_count": 80,
   "metadata": {
    "id": "aOIj3_vUzkJh"
   },
   "outputs": [],
   "source": [
    "# TODO: Plot the data and the decision boundary of the classifiers. plot_2d_decisionboundary() in utils.py can be used.\n",
    "#       Add more code if helpful for the comparison of the classifiers. Use the datasets dataset_1.npz and dataset_2.npz\n",
    "\n",
    "from utils import plot_classification_dataset # plot the data\n",
    "from sklearn.model_selection import train_test_split\n",
    "from sklearn.utils import shuffle  \n",
    "\n",
    "def train(dataset):\n",
    "    \"\"\"\n",
    "    Train kNN & Log.Reg. on a given dataset and plot the dataset as well as the\n",
    "    model's decision boundary\n",
    "    \n",
    "    Params:\n",
    "        dataset: name of the datase\n",
    "    \n",
    "    Examples:\n",
    "        train('dataset_1')\n",
    "    \"\"\"\n",
    "    \n",
    "    # TODO"
   ]
  },
  {
   "cell_type": "code",
   "execution_count": 81,
   "metadata": {},
   "outputs": [],
   "source": [
    "train(\"dataset_1\")"
   ]
  },
  {
   "cell_type": "code",
   "execution_count": 82,
   "metadata": {},
   "outputs": [],
   "source": [
    "train(\"dataset_2\")"
   ]
  },
  {
   "cell_type": "markdown",
   "metadata": {
    "id": "ANBVeSXjzkJn"
   },
   "source": [
    "**TODO:** Describe your results and analyze them: Is one model performing better than the other? Is there a difference in the datasets causing this behavior?"
   ]
  },
  {
   "cell_type": "markdown",
   "metadata": {},
   "source": [
    "**Answer:**\n",
    "\n",
    "*dataset_1*:  \n",
    "...\n",
    "\n",
    "\n",
    "*dataset_2*:  \n",
    "...\n"
   ]
  },
  {
   "cell_type": "markdown",
   "metadata": {},
   "source": [
    "# Part 2: Model evaluation (10 points)\n",
    "\n",
    "Consider the following scenario: Two groups of students work on this assignment. They both use the function below to generate a train-test split and compare the performance of kNN and Logistic Regression. However both groups achieve different results. The code snippet below shows how they handled the comparison.\n",
    "Fill the TODOs for training and evaluation of kNN and Logistic Regression with the given hyperparameters."
   ]
  },
  {
   "cell_type": "code",
   "execution_count": 83,
   "metadata": {},
   "outputs": [
    {
     "name": "stdout",
     "output_type": "stream",
     "text": [
      "group1:\n",
      "accuracy: \n",
      "accuracy: \n",
      "group2\n",
      "accuracy: \n",
      "accuracy: \n"
     ]
    }
   ],
   "source": [
    "data_set = np.load('dataset_2.npz')\n",
    "X = data_set['X']\n",
    "y = data_set['y']\n",
    "\n",
    "n = X.shape[0]\n",
    "\n",
    "def train_knn(X_train, X_test, y_train, y_test):\n",
    "    # TODO: train a kNN classifier with k=5 and report the test accuracy\n",
    "    print(\"accuracy: \")\n",
    "    \n",
    "def train_logreg(X_train, X_test, y_train, y_test):\n",
    "    # TODO: train a logistic regression pipeline with polynomial preprocessing (deg=2) and report the test accuracy\n",
    "    print(\"accuracy: \")\n",
    "    \n",
    "def group1_eval():\n",
    "    print(\"group1:\")\n",
    "    n_train = int(4*n/5)\n",
    "    X_train = X[:n_train]\n",
    "    X_test = X[n_train:]\n",
    "    y_train = y[:n_train]\n",
    "    y_test = y[n_train:]\n",
    "    \n",
    "    train_knn(X_train, X_test, y_train, y_test)\n",
    "    train_logreg(X_train, X_test, y_train, y_test)\n",
    "    \n",
    "    \n",
    "def group2_eval():\n",
    "    print(\"group2\")\n",
    "    n_test = int(n/5)\n",
    "    X_train = X[n_test:]\n",
    "    X_test = X[:n_test]\n",
    "    y_train = y[n_test:]\n",
    "    y_test = y[:n_test]\n",
    "    \n",
    "    train_knn(X_train, X_test, y_train, y_test)\n",
    "    train_logreg(X_train, X_test, y_train, y_test)\n",
    "    \n",
    "group1_eval()\n",
    "group2_eval()"
   ]
  },
  {
   "cell_type": "markdown",
   "metadata": {},
   "source": [
    "**TODO:** Explain why they achieve different results. Can you think of any better strategy than the simple train-test split to make the results more comparable? Feel free to add some code to underline your points or show your recommended approach.\n",
    "\n",
    "* What do you think, whose results are correct?\n",
    "> \n",
    "* How could they improve their evaluation to be more confident about the results? (hint: If we make a statement like classifier 1 outperforms classifier 2 on this dataset, the statement should be representative for the whole dataset. As always, efficient solutions are preferable!)\n",
    "> "
   ]
  },
  {
   "cell_type": "code",
   "execution_count": 84,
   "metadata": {},
   "outputs": [],
   "source": [
    "# TODO: Implement your recommended approach.\n"
   ]
  },
  {
   "cell_type": "markdown",
   "metadata": {},
   "source": [
    "# Part 3: Yet another Dataset (15 points)"
   ]
  },
  {
   "cell_type": "code",
   "execution_count": 85,
   "metadata": {},
   "outputs": [],
   "source": [
    "# TODO: * Load dataset_3.npz (data is stored again in X and in y)\n",
    "#       * Train and report the accuracy for the kNN and the logistic regression classifier. Use logistic regression without polynomial preprocessing.\n",
    "#       * You may use a simple train-test split or your proposed strategy from part 2.\n",
    "\n",
    "data_set = np.load('dataset_3.npz')\n",
    "X = data_set['X']\n",
    "y = data_set['y']"
   ]
  },
  {
   "cell_type": "code",
   "execution_count": 86,
   "metadata": {},
   "outputs": [],
   "source": [
    "# TODO: Report the accuracy for each class. To report the accuracy for class i, compute the accuracy score only on samples that belong to class i.\n"
   ]
  },
  {
   "cell_type": "markdown",
   "metadata": {},
   "source": [
    "**TODO:** Describe your results and analyze them: Do you observe any problematic behavior?\n",
    "> "
   ]
  },
  {
   "cell_type": "code",
   "execution_count": 87,
   "metadata": {},
   "outputs": [],
   "source": [
    "# TODO: analyze the dataset; focus on possible reasons for above mentioned problems.\n",
    "#       You might consider plotting the data.\n"
   ]
  },
  {
   "cell_type": "markdown",
   "metadata": {},
   "source": [
    "**TODO:** Discuss the properties of the dataset and how they influence the performance of the classifiers.\n",
    "\n",
    "> "
   ]
  },
  {
   "cell_type": "markdown",
   "metadata": {},
   "source": [
    "**TODO:** Given your results and the properties of the data, reflect on accuracy (over all classes) as a metric. Propose another metric that would be better suited for this kind of dataset and explain why. Adjustments to accuracy are fine, too.\n",
    "\n",
    "> \n"
   ]
  },
  {
   "cell_type": "code",
   "execution_count": null,
   "metadata": {},
   "outputs": [],
   "source": []
  }
 ],
 "metadata": {
  "colab": {
   "collapsed_sections": [
    "HCypy1U8zkI0",
    "qxex3z5tzkJR",
    "edHXCg-IzkJg"
   ],
   "name": "Copy of Project1.ipynb",
   "provenance": []
  },
  "kernelspec": {
   "display_name": "Python 3 (ipykernel)",
   "language": "python",
   "name": "python3"
  },
  "language_info": {
   "codemirror_mode": {
    "name": "ipython",
    "version": 3
   },
   "file_extension": ".py",
   "mimetype": "text/x-python",
   "name": "python",
   "nbconvert_exporter": "python",
   "pygments_lexer": "ipython3",
   "version": "3.10.11"
  },
  "toc": {
   "base_numbering": 1,
   "nav_menu": {},
   "number_sections": true,
   "sideBar": true,
   "skip_h1_title": false,
   "title_cell": "Table of Contents",
   "title_sidebar": "Contents",
   "toc_cell": false,
   "toc_position": {},
   "toc_section_display": true,
   "toc_window_display": false
  }
 },
 "nbformat": 4,
 "nbformat_minor": 4
}
